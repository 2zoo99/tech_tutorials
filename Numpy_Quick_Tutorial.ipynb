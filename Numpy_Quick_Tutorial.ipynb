{
  "nbformat": 4,
  "nbformat_minor": 0,
  "metadata": {
    "colab": {
      "provenance": [],
      "authorship_tag": "ABX9TyNU+hMJ1VDtAbZfCSQKOxSY",
      "include_colab_link": true
    },
    "kernelspec": {
      "name": "python3",
      "display_name": "Python 3"
    },
    "language_info": {
      "name": "python"
    }
  },
  "cells": [
    {
      "cell_type": "markdown",
      "metadata": {
        "id": "view-in-github",
        "colab_type": "text"
      },
      "source": [
        "<a href=\"https://colab.research.google.com/github/2zoo99/tech_tutorials/blob/main/Numpy_Quick_Tutorial.ipynb\" target=\"_parent\"><img src=\"https://colab.research.google.com/assets/colab-badge.svg\" alt=\"Open In Colab\"/></a>"
      ]
    },
    {
      "cell_type": "markdown",
      "source": [
        "# numpy 사용법  \n",
        "numpy 는 배열이나 행렬 조작에 유용한 여러 함수를 제공해주는 파이썬 라이브러리이다.  \n",
        "numpy 는 머신러닝 알고리즘을 다룰때 데이터 구조를 알기 위해 많이 사용된다.  \n",
        "배열 또는 행렬은 python에서 `list` 로 생성하고,  \n",
        "numpy 에서 `arrays` 로 생성하고,  \n",
        "tensorflow 에서 `tensor`로 생성한다.  "
      ],
      "metadata": {
        "id": "rOrsQVNDO8pv"
      }
    },
    {
      "cell_type": "markdown",
      "source": [
        "## 1. Numpy 모듈을 가져온다."
      ],
      "metadata": {
        "id": "59kFe9gJQyjI"
      }
    },
    {
      "cell_type": "code",
      "source": [
        "import numpy as np"
      ],
      "metadata": {
        "id": "keQGnJADQwlD"
      },
      "execution_count": 1,
      "outputs": []
    },
    {
      "cell_type": "markdown",
      "source": [
        "## 2. 사용자 지정 행렬을 만드는 `np.array`"
      ],
      "metadata": {
        "id": "DY-i4IOKQ5-s"
      }
    },
    {
      "cell_type": "code",
      "source": [
        "one_dim_arr = np.array([1,2,4,5,7,8,0])\n",
        "\n",
        "print(one_dim_arr)"
      ],
      "metadata": {
        "colab": {
          "base_uri": "https://localhost:8080/"
        },
        "id": "fDfYIDNcQ4To",
        "outputId": "d12e2667-0231-4f23-8067-e6ba9e9cbe94"
      },
      "execution_count": 2,
      "outputs": [
        {
          "output_type": "stream",
          "name": "stdout",
          "text": [
            "[1 2 4 5 7 8 0]\n"
          ]
        }
      ]
    },
    {
      "cell_type": "code",
      "source": [
        "two_dim_arr = np.array([[6,5],[9,11],[10,6]])\n",
        "\n",
        "print(two_dim_arr)  # 3 x 2 array"
      ],
      "metadata": {
        "colab": {
          "base_uri": "https://localhost:8080/"
        },
        "id": "Fwh8EVX6RoiA",
        "outputId": "79895fcc-abed-45db-c318-25f696ac11b5"
      },
      "execution_count": 4,
      "outputs": [
        {
          "output_type": "stream",
          "name": "stdout",
          "text": [
            "[[ 6  5]\n",
            " [ 9 11]\n",
            " [10  6]]\n"
          ]
        }
      ]
    },
    {
      "cell_type": "code",
      "source": [
        "all_zero_arr = np.zeros(10)     # 지정 개수만큼 요소값이 0인 1차원 배열\n",
        "\n",
        "print(all_zero_arr)"
      ],
      "metadata": {
        "colab": {
          "base_uri": "https://localhost:8080/"
        },
        "id": "8b5wGAehRWpF",
        "outputId": "7fecdf30-8006-4bdb-a750-4564981e1891"
      },
      "execution_count": 6,
      "outputs": [
        {
          "output_type": "stream",
          "name": "stdout",
          "text": [
            "[0. 0. 0. 0. 0. 0. 0. 0. 0. 0.]\n"
          ]
        }
      ]
    },
    {
      "cell_type": "code",
      "source": [
        "all_one_arr = np.ones(10)       # 지정 개수만큼 요소값이 1인 1차원 배열\n",
        "\n",
        "print(all_one_arr)"
      ],
      "metadata": {
        "colab": {
          "base_uri": "https://localhost:8080/"
        },
        "id": "eHJg4aymSFRC",
        "outputId": "1688248e-800a-41a3-b4d6-48cd663f7eac"
      },
      "execution_count": 7,
      "outputs": [
        {
          "output_type": "stream",
          "name": "stdout",
          "text": [
            "[1. 1. 1. 1. 1. 1. 1. 1. 1. 1.]\n"
          ]
        }
      ]
    },
    {
      "cell_type": "markdown",
      "source": [
        "## 3. 지정 범위안의 정수 숫자들로 배열을 만드는 `np.arange`  (※ 'r' 두 개 아님 주의!)"
      ],
      "metadata": {
        "id": "qs3b635oSuoP"
      }
    },
    {
      "cell_type": "code",
      "source": [
        "seq_arr = np.arange(5,12)   # 5 이상 12 미만 범위의 연속 정수\n",
        "\n",
        "print(seq_arr)"
      ],
      "metadata": {
        "colab": {
          "base_uri": "https://localhost:8080/"
        },
        "id": "oimA0FxGSdHA",
        "outputId": "3544ab32-ed58-4e2f-b8ba-82dc7fe1c468"
      },
      "execution_count": 9,
      "outputs": [
        {
          "output_type": "stream",
          "name": "stdout",
          "text": [
            "[ 5  6  7  8  9 10 11]\n"
          ]
        }
      ]
    },
    {
      "cell_type": "markdown",
      "source": [
        "## 4. low, hige, size 지정값으로 해당 범위에 존재하는 랜덤 정수로 배열을 만드는 `np.random.randint`  (※ 컴파일마다 배열이 바뀜 주의! )"
      ],
      "metadata": {
        "id": "fXb8ujxfT5G5"
      }
    },
    {
      "cell_type": "code",
      "source": [
        "rand_arr = np.random.randint(50,101,(6,))     # np.random.randint(low=50, high=101, size=(6,)) 이렇게 작성해도 됨\n",
        "                                              # 50 이상 101 미만 또는 50 이상 100 이하\n",
        "print(rand_arr)"
      ],
      "metadata": {
        "colab": {
          "base_uri": "https://localhost:8080/"
        },
        "id": "G3Sfrgx_TMmo",
        "outputId": "9c4bc0ed-aa5c-490e-c83f-4cd925519324"
      },
      "execution_count": 12,
      "outputs": [
        {
          "output_type": "stream",
          "name": "stdout",
          "text": [
            "[51 69 54 50 82 89]\n"
          ]
        }
      ]
    },
    {
      "cell_type": "markdown",
      "source": [
        "## 5. 0.0 부터 0.1 사이의 부동소수점 랜덤 실수로 배열을 만드는 `np.random.random`  ( size 지정값 필요 )"
      ],
      "metadata": {
        "id": "07AEWWrgWf3E"
      }
    },
    {
      "cell_type": "code",
      "source": [
        "rand_float_arr = np.random.random((6,))\n",
        "\n",
        "print(rand_float_arr)"
      ],
      "metadata": {
        "colab": {
          "base_uri": "https://localhost:8080/"
        },
        "id": "pJAlAXVbUoW7",
        "outputId": "f6063731-a7ce-42a6-86ad-4bc7c01785f2"
      },
      "execution_count": 13,
      "outputs": [
        {
          "output_type": "stream",
          "name": "stdout",
          "text": [
            "[0.67746299 0.45076056 0.77760517 0.74168614 0.41601531 0.00489077]\n"
          ]
        }
      ]
    },
    {
      "cell_type": "markdown",
      "source": [
        "## 6. 수학 연산자 또는 numpy 피연산자 모음"
      ],
      "metadata": {
        "id": "rggF2miLW--C"
      }
    },
    {
      "cell_type": "code",
      "source": [
        "two_plus_rand_arr = rand_arr + 2    # 배열 전체 요소에 더하기 2\n",
        "                                    # 또는 52 이상 103 미만 또는 52 이상 102 이하\n",
        "print(two_plus_rand_arr)"
      ],
      "metadata": {
        "colab": {
          "base_uri": "https://localhost:8080/"
        },
        "id": "6ouneABEW7i-",
        "outputId": "22dea49c-49b7-4a46-b2a0-dff7f1df7248"
      },
      "execution_count": 14,
      "outputs": [
        {
          "output_type": "stream",
          "name": "stdout",
          "text": [
            "[53 71 56 52 84 91]\n"
          ]
        }
      ]
    },
    {
      "cell_type": "code",
      "source": [
        "two_plus_rand_float_arr = rand_float_arr + 2    # 또는 2.0\n",
        "\n",
        "print(two_plus_rand_float_arr)"
      ],
      "metadata": {
        "colab": {
          "base_uri": "https://localhost:8080/"
        },
        "id": "jkXznb6xYf9o",
        "outputId": "c2343e9c-6cdb-451b-ea24-8d6d634a50ea"
      },
      "execution_count": 15,
      "outputs": [
        {
          "output_type": "stream",
          "name": "stdout",
          "text": [
            "[2.67746299 2.45076056 2.77760517 2.74168614 2.41601531 2.00489077]\n"
          ]
        }
      ]
    },
    {
      "cell_type": "code",
      "source": [
        "three_multiply_rand_arr = rand_arr * 3  # 배열 전체 요소에 곱하기 3\n",
        "\n",
        "print(three_multiply_rand_arr)"
      ],
      "metadata": {
        "colab": {
          "base_uri": "https://localhost:8080/"
        },
        "id": "EXqhQqlGYqoJ",
        "outputId": "1655fb54-7c82-4c82-f7e3-9dcb2ceeeabf"
      },
      "execution_count": 16,
      "outputs": [
        {
          "output_type": "stream",
          "name": "stdout",
          "text": [
            "[153 207 162 150 246 267]\n"
          ]
        }
      ]
    },
    {
      "cell_type": "markdown",
      "source": [
        "## Task : create linear dataset  \n",
        "1. 6이상 20이하의 연속 정수 배열 feature 만들기  \n",
        "2. label = (3)(feature) + 4 의 형태처럼 feature 배열에 연산자를 적용한 label 만들기"
      ],
      "metadata": {
        "id": "UtaUZLEGhL2G"
      }
    },
    {
      "cell_type": "code",
      "source": [
        "feature = np.arange(6,21)\n",
        "\n",
        "label = (feature * 3) + 4\n",
        "\n",
        "print(feature)\n",
        "print(label)"
      ],
      "metadata": {
        "colab": {
          "base_uri": "https://localhost:8080/"
        },
        "id": "0gM9n01thF-y",
        "outputId": "30c5a3c2-8b86-43e8-9c43-dabf0c7e474a"
      },
      "execution_count": 18,
      "outputs": [
        {
          "output_type": "stream",
          "name": "stdout",
          "text": [
            "[ 6  7  8  9 10 11 12 13 14 15 16 17 18 19 20]\n",
            "[22 25 28 31 34 37 40 43 46 49 52 55 58 61 64]\n"
          ]
        }
      ]
    },
    {
      "cell_type": "markdown",
      "source": [
        "## Task : add some noise to the dataset\n",
        "1. 이미 만든 label 배열에 랜덤 noise 값을 몇개 추가하기  \n",
        "2. noise는 -2 이상 2 이하의 부동소수점 랜덤 실수로 label 크기와 똑같이 구성하기"
      ],
      "metadata": {
        "id": "pl_OF8eTimZD"
      }
    },
    {
      "cell_type": "code",
      "source": [
        "noise = (np.random.random((15,)) * 4) - 2\n",
        "                                    # 디폴트가 0~1 사이의 실수니까 곱하기4 한 후에 뺴기 2하면 -2~2 사이의 실수\n",
        "label = label + noise\n",
        "\n",
        "print(noise)\n",
        "print(label)"
      ],
      "metadata": {
        "colab": {
          "base_uri": "https://localhost:8080/"
        },
        "id": "B3O4j-0uiOTE",
        "outputId": "7165b6f8-5cf9-4c2c-fa9d-f093a47f08d9"
      },
      "execution_count": 19,
      "outputs": [
        {
          "output_type": "stream",
          "name": "stdout",
          "text": [
            "[ 0.50646185  1.76940045 -0.61257524  1.22800061 -0.00534849 -0.14957353\n",
            " -1.17935005 -1.05567216 -0.38537402 -0.24197079  1.31979134 -1.51603202\n",
            " -0.91097914 -0.38760178  1.48343857]\n",
            "[22.50646185 26.76940045 27.38742476 32.22800061 33.99465151 36.85042647\n",
            " 38.82064995 41.94432784 45.61462598 48.75802921 53.31979134 53.48396798\n",
            " 57.08902086 60.61239822 65.48343857]\n"
          ]
        }
      ]
    },
    {
      "cell_type": "code",
      "source": [],
      "metadata": {
        "id": "atXRzaEikD_z"
      },
      "execution_count": null,
      "outputs": []
    }
  ]
}